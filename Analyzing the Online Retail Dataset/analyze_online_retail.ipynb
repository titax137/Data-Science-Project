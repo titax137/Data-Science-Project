{
 "cells": [
  {
   "cell_type": "markdown",
   "id": "307ec03e",
   "metadata": {},
   "source": [
    "# Importing the Data"
   ]
  },
  {
   "cell_type": "markdown",
   "id": "60f6054e",
   "metadata": {},
   "source": [
    "In this notebook, we will be analyzing the \"Online Retail\" dataset, which contains information about transactions made by customers of an online retail company. We will be looking for data anomalies, such as duplicate transactions and invalid data, and we will be using the data to gain insights into customer behavior and product performance."
   ]
  },
  {
   "cell_type": "code",
   "execution_count": 39,
   "id": "f252ceef",
   "metadata": {},
   "outputs": [],
   "source": [
    "# Import necessary libraries\n",
    "import pandas as pd\n",
    "import seaborn as sns\n",
    "import matplotlib.pyplot as plt"
   ]
  },
  {
   "cell_type": "code",
   "execution_count": 10,
   "id": "0a8f3547",
   "metadata": {},
   "outputs": [],
   "source": [
    "# Load the data\n",
    "df = pd.read_excel(\"Online Retail.xlsx\")"
   ]
  },
  {
   "cell_type": "markdown",
   "id": "ca64f1cd",
   "metadata": {},
   "source": [
    "The dataset I have chosen is called \"Online Retail\" and it contains information about transactions made by customers of an online retail company. It includes fields such as the customer ID, the date of the transaction, the product ID, the quantity purchased, and the amount spent. You can download the dataset from the following link: "
   ]
  },
  {
   "cell_type": "code",
   "execution_count": 15,
   "id": "c1d4083e",
   "metadata": {},
   "outputs": [
    {
     "data": {
      "text/html": [
       "<div>\n",
       "<style scoped>\n",
       "    .dataframe tbody tr th:only-of-type {\n",
       "        vertical-align: middle;\n",
       "    }\n",
       "\n",
       "    .dataframe tbody tr th {\n",
       "        vertical-align: top;\n",
       "    }\n",
       "\n",
       "    .dataframe thead th {\n",
       "        text-align: right;\n",
       "    }\n",
       "</style>\n",
       "<table border=\"1\" class=\"dataframe\">\n",
       "  <thead>\n",
       "    <tr style=\"text-align: right;\">\n",
       "      <th></th>\n",
       "      <th>InvoiceNo</th>\n",
       "      <th>StockCode</th>\n",
       "      <th>Description</th>\n",
       "      <th>Quantity</th>\n",
       "      <th>InvoiceDate</th>\n",
       "      <th>UnitPrice</th>\n",
       "      <th>CustomerID</th>\n",
       "      <th>Country</th>\n",
       "    </tr>\n",
       "  </thead>\n",
       "  <tbody>\n",
       "    <tr>\n",
       "      <th>0</th>\n",
       "      <td>536365</td>\n",
       "      <td>85123A</td>\n",
       "      <td>WHITE HANGING HEART T-LIGHT HOLDER</td>\n",
       "      <td>6</td>\n",
       "      <td>2010-12-01 08:26:00</td>\n",
       "      <td>2.55</td>\n",
       "      <td>17850.0</td>\n",
       "      <td>United Kingdom</td>\n",
       "    </tr>\n",
       "    <tr>\n",
       "      <th>1</th>\n",
       "      <td>536365</td>\n",
       "      <td>71053</td>\n",
       "      <td>WHITE METAL LANTERN</td>\n",
       "      <td>6</td>\n",
       "      <td>2010-12-01 08:26:00</td>\n",
       "      <td>3.39</td>\n",
       "      <td>17850.0</td>\n",
       "      <td>United Kingdom</td>\n",
       "    </tr>\n",
       "    <tr>\n",
       "      <th>2</th>\n",
       "      <td>536365</td>\n",
       "      <td>84406B</td>\n",
       "      <td>CREAM CUPID HEARTS COAT HANGER</td>\n",
       "      <td>8</td>\n",
       "      <td>2010-12-01 08:26:00</td>\n",
       "      <td>2.75</td>\n",
       "      <td>17850.0</td>\n",
       "      <td>United Kingdom</td>\n",
       "    </tr>\n",
       "    <tr>\n",
       "      <th>3</th>\n",
       "      <td>536365</td>\n",
       "      <td>84029G</td>\n",
       "      <td>KNITTED UNION FLAG HOT WATER BOTTLE</td>\n",
       "      <td>6</td>\n",
       "      <td>2010-12-01 08:26:00</td>\n",
       "      <td>3.39</td>\n",
       "      <td>17850.0</td>\n",
       "      <td>United Kingdom</td>\n",
       "    </tr>\n",
       "    <tr>\n",
       "      <th>4</th>\n",
       "      <td>536365</td>\n",
       "      <td>84029E</td>\n",
       "      <td>RED WOOLLY HOTTIE WHITE HEART.</td>\n",
       "      <td>6</td>\n",
       "      <td>2010-12-01 08:26:00</td>\n",
       "      <td>3.39</td>\n",
       "      <td>17850.0</td>\n",
       "      <td>United Kingdom</td>\n",
       "    </tr>\n",
       "  </tbody>\n",
       "</table>\n",
       "</div>"
      ],
      "text/plain": [
       "  InvoiceNo StockCode                          Description  Quantity  \\\n",
       "0    536365    85123A   WHITE HANGING HEART T-LIGHT HOLDER         6   \n",
       "1    536365     71053                  WHITE METAL LANTERN         6   \n",
       "2    536365    84406B       CREAM CUPID HEARTS COAT HANGER         8   \n",
       "3    536365    84029G  KNITTED UNION FLAG HOT WATER BOTTLE         6   \n",
       "4    536365    84029E       RED WOOLLY HOTTIE WHITE HEART.         6   \n",
       "\n",
       "          InvoiceDate  UnitPrice  CustomerID         Country  \n",
       "0 2010-12-01 08:26:00       2.55     17850.0  United Kingdom  \n",
       "1 2010-12-01 08:26:00       3.39     17850.0  United Kingdom  \n",
       "2 2010-12-01 08:26:00       2.75     17850.0  United Kingdom  \n",
       "3 2010-12-01 08:26:00       3.39     17850.0  United Kingdom  \n",
       "4 2010-12-01 08:26:00       3.39     17850.0  United Kingdom  "
      ]
     },
     "execution_count": 15,
     "metadata": {},
     "output_type": "execute_result"
    }
   ],
   "source": [
    "df.head()"
   ]
  },
  {
   "cell_type": "markdown",
   "id": "88b8fab5",
   "metadata": {},
   "source": [
    "# Identifying Data Anomalies"
   ]
  },
  {
   "cell_type": "markdown",
   "id": "890b6084",
   "metadata": {},
   "source": [
    "Now that we have imported the data, we can start to identify data anomalies. We can do this by running the following code"
   ]
  },
  {
   "cell_type": "code",
   "execution_count": 11,
   "id": "e9474c00",
   "metadata": {},
   "outputs": [
    {
     "name": "stdout",
     "output_type": "stream",
     "text": [
      "Number of duplicate transactions: 515966\n"
     ]
    }
   ],
   "source": [
    "# Check for duplicate transactions\n",
    "duplicate_transactions = df[df.duplicated(['CustomerID', 'InvoiceNo', 'InvoiceDate'])]\n",
    "print(\"Number of duplicate transactions:\", len(duplicate_transactions))"
   ]
  },
  {
   "cell_type": "code",
   "execution_count": 12,
   "id": "49477c2e",
   "metadata": {},
   "outputs": [
    {
     "name": "stdout",
     "output_type": "stream",
     "text": [
      "Number of rows with invalid data: 10626\n"
     ]
    }
   ],
   "source": [
    "# Check for invalid data\n",
    "invalid_data = df[(df['Quantity'] < 0) | (df['UnitPrice'] < 0)]\n",
    "print(\"Number of rows with invalid data:\", len(invalid_data))"
   ]
  },
  {
   "cell_type": "markdown",
   "id": "fb1f2f75",
   "metadata": {},
   "source": [
    "Running this code on the \"Online Retail\" dataset yields the following results:\n",
    "\n",
    "Number of duplicate transactions: 515966\n",
    "Number of rows with invalid data: 10626\n",
    "\n",
    "We can see that there are a significant number of duplicate transactions in the dataset, as well as some rows with invalid data (e.g. negative quantities or unit prices). \n",
    "It will be important to address these anomalies in our analysis."
   ]
  },
  {
   "cell_type": "code",
   "execution_count": 13,
   "id": "4548b5ec",
   "metadata": {},
   "outputs": [
    {
     "data": {
      "text/plain": [
       "<AxesSubplot:xlabel='Quantity'>"
      ]
     },
     "execution_count": 13,
     "metadata": {},
     "output_type": "execute_result"
    },
    {
     "data": {
      "image/png": "[encoded data removed]",
      "text/plain": [
       "<Figure size 432x288 with 1 Axes>"
      ]
     },
     "metadata": {
      "needs_background": "light"
     },
     "output_type": "display_data"
    }
   ],
   "source": [
    "# Check for outliers\n",
    "sns.boxplot(x=df['Quantity'])"
   ]
  },
  {
   "cell_type": "markdown",
   "id": "0bd6bf95",
   "metadata": {},
   "source": [
    "# Gaining Business Insights"
   ]
  },
  {
   "cell_type": "markdown",
   "id": "2a84f2fc",
   "metadata": {},
   "source": [
    "Now that we have identified and cleaned up the data anomalies, we can start to gain insights into customer behavior and product performance. \n",
    "\n",
    "We can do this by running the following code:"
   ]
  },
  {
   "cell_type": "markdown",
   "id": "f1928a14",
   "metadata": {},
   "source": [
    "## Customer Behavior"
   ]
  },
  {
   "cell_type": "code",
   "execution_count": 57,
   "id": "a5002618",
   "metadata": {},
   "outputs": [
    {
     "name": "stdout",
     "output_type": "stream",
     "text": [
      "            Average Spend\n",
      "CustomerID               \n",
      "13256.0            0.0000\n",
      "14609.0            0.1225\n",
      "15118.0            0.1700\n",
      "12875.0            0.1700\n",
      "15744.0            0.2900\n",
      "...                   ...\n",
      "12503.0         1126.0000\n",
      "15369.0         1592.4900\n",
      "17846.0         2033.1000\n",
      "17448.0         4287.6300\n",
      "15098.0         8055.7800\n",
      "\n",
      "[4372 rows x 1 columns]\n"
     ]
    }
   ],
   "source": [
    "# Analyze customer behavior\n",
    "average_spend = df.groupby('CustomerID')['UnitPrice'].mean().sort_values()\n",
    "\n",
    "# Convert the average spend per customer series to a dataframe\n",
    "average_spend_df = pd.DataFrame(average_spend)\n",
    "\n",
    "# Rename the columns of the dataframe\n",
    "average_spend_df.columns = ['Average Spend']\n",
    "\n",
    "# Display the dataframe\n",
    "print(average_spend_df)"
   ]
  },
  {
   "cell_type": "markdown",
   "id": "0f84a5c5",
   "metadata": {},
   "source": [
    "The average spend per customer ranges from a minimum of **0 USD** to a maximum of **4287.63 USD**."
   ]
  },
  {
   "cell_type": "markdown",
   "id": "04736f20",
   "metadata": {},
   "source": [
    "## Product Performance"
   ]
  },
  {
   "cell_type": "code",
   "execution_count": 58,
   "id": "03a1970f",
   "metadata": {},
   "outputs": [
    {
     "name": "stdout",
     "output_type": "stream",
     "text": [
      "           Quantity\n",
      "StockCode          \n",
      "23005        -14418\n",
      "23003         -8516\n",
      "72140F        -5368\n",
      "79323W        -4838\n",
      "79323LP       -2618\n",
      "...             ...\n",
      "84879         36221\n",
      "85123A        38830\n",
      "85099B        47363\n",
      "84077         53847\n",
      "22197         56450\n",
      "\n",
      "[4070 rows x 1 columns]\n"
     ]
    }
   ],
   "source": [
    "\n",
    "# Analyze product performance\n",
    "sales_by_product = df.groupby('StockCode')['Quantity'].sum().sort_values()\n",
    "\n",
    "# Convert the product performance to a dataframe\n",
    "sales_by_product_df = pd.DataFrame(sales_by_product)\n",
    "\n",
    "# Rename the columns of the dataframe\n",
    "sales_by_product.columns = ['Sales by Product']\n",
    "\n",
    "# Display the dataframe\n",
    "print(sales_by_product_df)"
   ]
  },
  {
   "cell_type": "markdown",
   "id": "b42b0785",
   "metadata": {},
   "source": [
    "   * The product with the **highest** number of units sold is product **22197**, with a total of **56450 units sold**.\n",
    "   * The product with the **lowest** number of units sold is product **23005**, with a total of **-14418 units sold**. *This indicates that there have been returns or cancellations for this product*."
   ]
  },
  {
   "cell_type": "code",
   "execution_count": 60,
   "id": "eafe7703",
   "metadata": {},
   "outputs": [
    {
     "name": "stdout",
     "output_type": "stream",
     "text": [
      "        UnitPrice\n",
      "Month            \n",
      "1      172752.800\n",
      "2      127448.770\n",
      "3      171486.510\n",
      "4      129164.961\n",
      "5      190685.460\n",
      "6      200717.340\n",
      "7      171906.791\n",
      "8      150385.680\n",
      "9      199235.212\n",
      "10     263434.090\n",
      "11     327149.850\n",
      "12     394436.510\n"
     ]
    }
   ],
   "source": [
    "# Look for seasonal trends\n",
    "df['Month'] = df['InvoiceDate'].apply(lambda x: x.month)\n",
    "sales_by_month = df.groupby('Month')['UnitPrice'].sum()\n",
    "\n",
    "# Convert the product performance to a dataframe\n",
    "sales_by_month_df = pd.DataFrame(sales_by_month)\n",
    "\n",
    "# Rename the columns of the dataframe\n",
    "sales_by_month.columns = ['Sales by Month']\n",
    "\n",
    "# Display the dataframe\n",
    "print(sales_by_month_df)"
   ]
  },
  {
   "cell_type": "markdown",
   "id": "95fd7e57",
   "metadata": {},
   "source": [
    " * The **highest average** unit price was recorded in month **10** or October, at **263434.09** USD.\n",
    " * The **lowest average** unit price was recorded in month **1** or January , at **172752.80** USD.\n",
    " * The average unit price generally increases as the year progresses.\n",
    " * There is a relatively large range in average unit price among different months."
   ]
  },
  {
   "cell_type": "markdown",
   "id": "d7377521",
   "metadata": {},
   "source": [
    "## Conclusion"
   ]
  },
  {
   "cell_type": "markdown",
   "id": "bf5ab766",
   "metadata": {},
   "source": [
    "\n",
    "In conclusion, the data anomaly and business insight analysis of the \"Online Retail\" dataset provided valuable insights into customer behavior, product performance, and seasonal trends. By identifying and cleaning up data anomalies, we were able to accurately analyze the data and draw meaningful conclusions.\n",
    "\n",
    "Moving forward, it will be important to continue monitoring the data for anomalies and to use these insights to inform business decisions. By understanding the patterns and trends in customer behavior and product performance, online retailers can better target their marketing efforts and optimize their product offerings to drive sales and improve customer satisfaction."
   ]
  },
  {
   "cell_type": "code",
   "execution_count": null,
   "id": "d30ae4b9",
   "metadata": {},
   "outputs": [],
   "source": []
  }
 ],
 "metadata": {
  "kernelspec": {
   "display_name": "Python 3 (ipykernel)",
   "language": "python",
   "name": "python3"
  },
  "language_info": {
   "codemirror_mode": {
    "name": "ipython",
    "version": 3
   },
   "file_extension": ".py",
   "mimetype": "text/x-python",
   "name": "python",
   "nbconvert_exporter": "python",
   "pygments_lexer": "ipython3",
   "version": "3.9.7"
  }
 },
 "nbformat": 4,
 "nbformat_minor": 5
}
